{
 "cells": [
  {
   "cell_type": "code",
   "execution_count": 1,
   "id": "518acd35-2e23-48f1-8230-412a3e799f68",
   "metadata": {},
   "outputs": [
    {
     "name": "stdout",
     "output_type": "stream",
     "text": [
      "0.886226925452758\n"
     ]
    }
   ],
   "source": [
    "from math import gamma\n",
    "print(gamma(1.5))"
   ]
  },
  {
   "cell_type": "code",
   "execution_count": 2,
   "id": "12456d4d-9739-46e8-b2e5-5a492009e69b",
   "metadata": {},
   "outputs": [
    {
     "name": "stdout",
     "output_type": "stream",
     "text": [
      "5.327368820265685\n"
     ]
    }
   ],
   "source": [
    "s = 0\n",
    "N = 10\n",
    "for m4 in range(N+1):\n",
    "    for m5 in range(N+1):\n",
    "        for m6 in range(N+1):\n",
    "            p = 1\n",
    "            p = p * gamma(m4+0.5)*gamma(m5+0.5)*gamma(m6+0.5)\n",
    "            p = p / gamma(m4+m5+m6+1.5)/(3+2*m4+2*m5+2*m6)\n",
    "            s = s + p\n",
    "print(s)"
   ]
  },
  {
   "cell_type": "code",
   "execution_count": 4,
   "id": "e1334385-35f1-4f34-a5a0-638e4fa0b129",
   "metadata": {},
   "outputs": [
    {
     "name": "stdout",
     "output_type": "stream",
     "text": [
      "5.66278769825317\n"
     ]
    }
   ],
   "source": [
    "s = 0\n",
    "N = 50\n",
    "for m4 in range(N+1):\n",
    "    for m5 in range(N+1):\n",
    "        for m6 in range(N+1):\n",
    "            p = 1\n",
    "            p = p * gamma(m4+0.5)*gamma(m5+0.5)*gamma(m6+0.5)\n",
    "            p = p / gamma(m4+m5+m6+1.5)/(3+2*m4+2*m5+2*m6)\n",
    "            s = s + p\n",
    "print(s)"
   ]
  },
  {
   "cell_type": "code",
   "execution_count": 14,
   "id": "9a37617a-63d0-4ff4-89e7-edcc521b017b",
   "metadata": {},
   "outputs": [
    {
     "name": "stdout",
     "output_type": "stream",
     "text": [
      "55 55 55\n",
      "5.6710362311019535\n"
     ]
    }
   ],
   "source": [
    "s = 0\n",
    "N = 55\n",
    "s1 = 0\n",
    "flag = True\n",
    "for m4 in range(N+1):\n",
    "    for m5 in range(N+1):\n",
    "        for m6 in range(N+1):\n",
    "            s1 = s\n",
    "            p = 1\n",
    "            p = p * gamma(m4+0.5)*gamma(m5+0.5)*gamma(m6+0.5)\n",
    "            p = p / gamma(m4+m5+m6+1.5)/(3+2*m4+2*m5+2*m6)\n",
    "            s = s + p\n",
    "            #err = abs(s-s1)/s\n",
    "            #if err < 10**(-8):\n",
    "            #    flag = False\n",
    "            #    break\n",
    "        #if not(flag): break\n",
    "    #if not(flag): break\n",
    "print(m4, m5, m6)\n",
    "print(s)"
   ]
  },
  {
   "cell_type": "code",
   "execution_count": 55,
   "id": "3f158f4e-608b-4b81-a6e7-5921ab594908",
   "metadata": {},
   "outputs": [
    {
     "name": "stdout",
     "output_type": "stream",
     "text": [
      "0 error =  1.0\n",
      "1 error =  0.12969222913254422\n",
      "2 error =  0.04670335001085573\n",
      "3 error =  0.023640140088139663\n",
      "4 error =  0.014198652608961452\n",
      "5 error =  0.009450524099525376\n",
      "6 error =  0.0067356731080338685\n",
      "7 error =  0.005040838061315982\n",
      "8 error =  0.003912893233666271\n",
      "9 error =  0.003124792614013385\n",
      "10 error =  0.002552661894492696\n",
      "11 error =  0.0021242886783350646\n",
      "12 error =  0.0017952832930818168\n",
      "13 error =  0.001537146397209073\n",
      "14 error =  0.0013309042722087724\n",
      "15 error =  0.0011635302200842122\n",
      "16 error =  0.001025841083614949\n",
      "17 error =  0.0009112129827640113\n",
      "18 error =  0.0008147710322289721\n",
      "19 error =  0.0007328632194706147\n",
      "20 error =  0.0006627100336121194\n",
      "21 error =  0.0006021658297483566\n",
      "22 error =  0.000549552993577317\n",
      "23 error =  0.000503544592607887\n",
      "24 error =  0.00046307996669676016\n",
      "25 error =  0.00042730310142593777\n",
      "26 error =  0.00039551701929496066\n",
      "27 error =  0.00036714960214988843\n",
      "28 error =  0.00034172768438677604\n",
      "29 error =  0.0003188572064311834\n",
      "30 error =  0.0002982078610466913\n",
      "31 error =  0.0002795011067155395\n",
      "32 error =  0.00026250072996184974\n",
      "33 error =  0.0002470053555915343\n",
      "34 error =  0.00023284245851051537\n",
      "35 error =  0.00021986354276332595\n",
      "36 error =  0.00020794023485423143\n",
      "37 error =  0.000196961098406141\n",
      "38 error =  0.0001868290218994403\n",
      "39 error =  0.0001774590646287914\n",
      "40 error =  0.00016877667125773693\n",
      "41 error =  0.00016071618462521565\n",
      "42 error =  0.00015321960119990636\n",
      "43 error =  0.0001462355249556696\n",
      "44 error =  0.00013971828435722564\n",
      "45 error =  0.0001336271839731082\n",
      "46 error =  0.00012792586782811005\n",
      "47 error =  0.0001225817757548209\n",
      "48 error =  0.00011756567760205737\n",
      "49 error =  0.00011285127277602096\n",
      "50 error =  0.00010841484485060179\n",
      "51 error =  0.00010423496277734756\n",
      "52 error =  0.00010029222163049218\n",
      "53 error =  9.656901702257552e-05\n",
      "54 error =  9.304934829312046e-05\n",
      "55 error =  8.971864633754738e-05\n",
      "56 error =  8.656362262735955e-05\n",
      "57 error =  8.357213647578482e-05\n",
      "58 error =  8.073307808888093e-05\n",
      "59 error =  7.803626528848119e-05\n",
      "60 error =  7.54723520939099e-05\n",
      "61 error =  7.303274765638238e-05\n",
      "62 error =  7.070954420943604e-05\n",
      "63 error =  6.849545291825406e-05\n",
      "64 error =  6.638374664580159e-05\n",
      "65 error =  6.43682087995368e-05\n",
      "66 error =  6.244308753230551e-05\n",
      "67 error =  6.0603054669157685e-05\n",
      "68 error =  5.884316879815224e-05\n",
      "69 error =  5.715884207023382e-05\n",
      "70 error =  5.554581026813459e-05\n",
      "71 error =  5.400010579329721e-05\n",
      "5.689733820167677\n"
     ]
    }
   ],
   "source": [
    "s = 0.0\n",
    "N = 71\n",
    "flag = True\n",
    "s1, s2, s3, s4 = 1, 1, 1, 1\n",
    "s5 = 0.0\n",
    "A = [gamma(1.5) if k==0 else 0 for k in range(3*N+1)]\n",
    "for m4 in range(N+1):\n",
    "    s5 = s\n",
    "    if m4 == 0: s1 = gamma(0.5)\n",
    "    else: s1 = (m4-0.5)*s1\n",
    "    for m5 in range(N+1):\n",
    "        if m5 == 0: s2 = gamma(0.5)\n",
    "        else: s2 = (m5-0.5)*s2\n",
    "        for m6 in range(N+1):\n",
    "            if m6 == 0: s3 = gamma(0.5)\n",
    "            else: s3 = (m6-0.5)*s3\n",
    "            if A[m4+m5+m6]==0:\n",
    "                A[m4+m5+m6] = (m4+m5+m6+0.5)*A[m4+m5+m6-1]\n",
    "            s4 = A[m4+m5+m6]\n",
    "            s = s + s1*s2*s3/s4/(3+2*m4+2*m5+2*m6)\n",
    "    print(m4,'error = ',abs(s-s5)/s)\n",
    "print(s)"
   ]
  },
  {
   "cell_type": "code",
   "execution_count": null,
   "id": "07fb5da3-9932-482c-ade1-3eaa5ad99c65",
   "metadata": {},
   "outputs": [],
   "source": []
  }
 ],
 "metadata": {
  "kernelspec": {
   "display_name": "Python 3",
   "language": "python",
   "name": "python3"
  },
  "language_info": {
   "codemirror_mode": {
    "name": "ipython",
    "version": 3
   },
   "file_extension": ".py",
   "mimetype": "text/x-python",
   "name": "python",
   "nbconvert_exporter": "python",
   "pygments_lexer": "ipython3",
   "version": "3.8.8"
  }
 },
 "nbformat": 4,
 "nbformat_minor": 5
}
